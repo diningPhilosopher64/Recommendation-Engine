{
 "cells": [
  {
   "cell_type": "code",
   "execution_count": 1,
   "metadata": {
    "collapsed": false
   },
   "outputs": [],
   "source": [
    "import sys \n",
    "import recsys\n",
    "import recsys.algorithm\n",
    "from recsys.algorithm.factorize import SVD\n",
    "from recsys.algorithm.factorize import SVDNeighbourhood\n",
    "from recsys.datamodel.data import Data\n",
    "import pandas as pd\n",
    "from recsys.evaluation.prediction import RMSE,MAE\n",
    "recsys.algorithm.VERBOSE = True\n",
    "\n",
    "\n",
    "#These paths are to be given by Irfan \n",
    "\n",
    "users_file = \"/media/sourabhkondapaka/Sourabh's/main_project/sandbox/ml-latest-small/ratings.csv\"\n",
    "movies_file = \"/media/sourabhkondapaka/Sourabh's/main_project/sandbox/ml-latest-small/movies.csv\"\n",
    "users = pd.read_table(users_file,sep=',', header=None,names = ['user_id','movie_id','rating','timestamp'],index_col = False)\n",
    "movies = pd.read_table(movies_file, sep=',')"
   ]
  },
  {
   "cell_type": "code",
   "execution_count": 2,
   "metadata": {
    "collapsed": false
   },
   "outputs": [],
   "source": [
    "ratings = pd.read_csv(\"/home/sourabhkondapaka/Desktop/ratingsss.csv\",index_col= False)"
   ]
  },
  {
   "cell_type": "code",
   "execution_count": 3,
   "metadata": {
    "collapsed": false
   },
   "outputs": [
    {
     "name": "stdout",
     "output_type": "stream",
     "text": [
      "   user_id  movie_id  rating   timestamp\n",
      "0        1        31     2.5  1260759144\n",
      "1        1      1029     3.0  1260759179\n",
      "2        1      1061     3.0  1260759182\n",
      "3        1      1129     2.0  1260759185\n",
      "4        1      1172     4.0  1260759205\n"
     ]
    }
   ],
   "source": [
    "print (ratings.head())"
   ]
  },
  {
   "cell_type": "code",
   "execution_count": 98,
   "metadata": {
    "collapsed": false
   },
   "outputs": [
    {
     "name": "stdout",
     "output_type": "stream",
     "text": [
      "672\n"
     ]
    }
   ],
   "source": [
    "print ratings['user_id'].iloc[-1]+1"
   ]
  },
  {
   "cell_type": "code",
   "execution_count": 136,
   "metadata": {
    "collapsed": false
   },
   "outputs": [],
   "source": [
    "import csv   \n",
    "\n",
    "\n",
    "\n",
    "\n",
    "def rate_movie(user_id):\n",
    "    if not any(ratings['user_id'] == user_id):\n",
    "    \n",
    "\n",
    "\n",
    "    "
   ]
  },
  {
   "cell_type": "code",
   "execution_count": 131,
   "metadata": {
    "collapsed": false
   },
   "outputs": [],
   "source": [
    "with open('/home/sourabhkondapaka/Desktop/ratingsss.csv','a') as f:\n",
    "    writer=csv.writer(f)\n",
    "    writer.writerow(['672','1','5','545345'])#Need to get the second value ie movie_id"
   ]
  },
  {
   "cell_type": "code",
   "execution_count": 137,
   "metadata": {
    "collapsed": false
   },
   "outputs": [],
   "source": [
    "rate_movie(672)"
   ]
  },
  {
   "cell_type": "code",
   "execution_count": null,
   "metadata": {
    "collapsed": true
   },
   "outputs": [],
   "source": []
  }
 ],
 "metadata": {
  "kernelspec": {
   "display_name": "Python 2",
   "language": "python",
   "name": "python2"
  },
  "language_info": {
   "codemirror_mode": {
    "name": "ipython",
    "version": 2
   },
   "file_extension": ".py",
   "mimetype": "text/x-python",
   "name": "python",
   "nbconvert_exporter": "python",
   "pygments_lexer": "ipython2",
   "version": "2.7.12"
  }
 },
 "nbformat": 4,
 "nbformat_minor": 2
}
