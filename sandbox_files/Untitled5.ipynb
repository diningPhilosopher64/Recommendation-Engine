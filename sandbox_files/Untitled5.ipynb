{
 "cells": [
  {
   "cell_type": "code",
   "execution_count": 4,
   "metadata": {
    "collapsed": false
   },
   "outputs": [],
   "source": [
    "\n",
    "\n"
   ]
  },
  {
   "cell_type": "code",
   "execution_count": 1,
   "metadata": {
    "collapsed": false
   },
   "outputs": [],
   "source": [
    "import sys \n",
    "import recsys\n",
    "import recsys.algorithm\n",
    "from recsys.algorithm.factorize import SVD\n",
    "from recsys.datamodel.data import Data\n",
    "import pandas as pd\n",
    "from recsys.evaluation.prediction import RMSE,MAE\n",
    "\n",
    "recsys.algorithm.VERBOSE = True\n",
    "\n",
    "\n",
    "users_file = \"/media/sourabhkondapaka/Sourabh's/main_project/sandbox/ml-latest-small/ratings.csv\"\n",
    "movies_file = \"/media/sourabhkondapaka/Sourabh's/main_project/sandbox/ml-latest-small/movies.csv\"\n",
    "users = pd.read_table(users_file,sep=',', header=None,names = ['user_id','movie_id','rating','timestamp'],index_col = False)\n",
    "movies = pd.read_table(movies_file, sep=',')\n",
    "\n",
    "users.to_csv(\"/home/sourabhkondapaka/Desktop/ratingsss.csv\",index= False)\n",
    "users.to_csv(\"/home/sourabhkondapaka/Desktop/ratingsss.csv\",index= False)\n",
    "\n",
    "ratings_file = \"/home/sourabhkondapaka/Desktop/ratingsss.csv\"\n",
    "\n"
   ]
  },
  {
   "cell_type": "code",
   "execution_count": 10,
   "metadata": {
    "collapsed": false
   },
   "outputs": [],
   "source": [
    "ratings = pd.read_table(ratings_file,sep=',', header=None,names = ['user_id','movie_id','rating','timestamp'],index_col = False)"
   ]
  },
  {
   "cell_type": "code",
   "execution_count": 11,
   "metadata": {
    "collapsed": false
   },
   "outputs": [
    {
     "data": {
      "text/html": [
       "<div>\n",
       "<table border=\"1\" class=\"dataframe\">\n",
       "  <thead>\n",
       "    <tr style=\"text-align: right;\">\n",
       "      <th></th>\n",
       "      <th>user_id</th>\n",
       "      <th>movie_id</th>\n",
       "      <th>rating</th>\n",
       "      <th>timestamp</th>\n",
       "    </tr>\n",
       "  </thead>\n",
       "  <tbody>\n",
       "    <tr>\n",
       "      <th>0</th>\n",
       "      <td>user_id</td>\n",
       "      <td>movie_id</td>\n",
       "      <td>rating</td>\n",
       "      <td>timestamp</td>\n",
       "    </tr>\n",
       "    <tr>\n",
       "      <th>1</th>\n",
       "      <td>1</td>\n",
       "      <td>31</td>\n",
       "      <td>2.5</td>\n",
       "      <td>1260759144</td>\n",
       "    </tr>\n",
       "    <tr>\n",
       "      <th>2</th>\n",
       "      <td>1</td>\n",
       "      <td>1029</td>\n",
       "      <td>3.0</td>\n",
       "      <td>1260759179</td>\n",
       "    </tr>\n",
       "    <tr>\n",
       "      <th>3</th>\n",
       "      <td>1</td>\n",
       "      <td>1061</td>\n",
       "      <td>3.0</td>\n",
       "      <td>1260759182</td>\n",
       "    </tr>\n",
       "    <tr>\n",
       "      <th>4</th>\n",
       "      <td>1</td>\n",
       "      <td>1129</td>\n",
       "      <td>2.0</td>\n",
       "      <td>1260759185</td>\n",
       "    </tr>\n",
       "  </tbody>\n",
       "</table>\n",
       "</div>"
      ],
      "text/plain": [
       "   user_id  movie_id  rating   timestamp\n",
       "0  user_id  movie_id  rating   timestamp\n",
       "1        1        31     2.5  1260759144\n",
       "2        1      1029     3.0  1260759179\n",
       "3        1      1061     3.0  1260759182\n",
       "4        1      1129     2.0  1260759185"
      ]
     },
     "execution_count": 11,
     "metadata": {},
     "output_type": "execute_result"
    }
   ],
   "source": [
    "ratings.head()"
   ]
  },
  {
   "cell_type": "code",
   "execution_count": 35,
   "metadata": {
    "collapsed": false
   },
   "outputs": [],
   "source": [
    "\n",
    "\n",
    "def initialize(users ,movies):    \n",
    "    users = users\n",
    "    movies = movies\n",
    "    K = 100\n",
    "    PERCENT_TRAIN = 85\n",
    "    users.to_csv(\"/home/sourabhkondapaka/Desktop/ratingsss.csv\",index= False)\n",
    "    ratings_file = \"/home/sourabhkondapaka/Desktop/ratingsss.csv\"\n",
    "    data = None\n",
    "    svd = None\n",
    "    movie_list = None\n",
    "\n",
    "\n",
    "def compute_svd(users , movies):\n",
    "    users = users\n",
    "    movies = movies\n",
    "    K = 100\n",
    "    PERCENT_TRAIN = 85\n",
    "    users.to_csv(\"/home/sourabhkondapaka/Desktop/ratingsss.csv\",index= False)\n",
    "    print(users.head())\n",
    "    ratings_file = \"/home/sourabhkondapaka/Desktop/ratingsss.csv\"\n",
    "    data = Data()\n",
    "    data.load(ratings_file, sep=',', format={'col':0, 'row':1 ,'value':2, 'ids':float})\n",
    "    train , test = data.split_train_test(percent=PERCENT_TRAIN)    \n",
    "    svd = SVD()\n",
    "    svd.set_data(train)    \n",
    "    svd.compute(k=K, min_values=1, pre_normalize=None, mean_center=True, post_normalize=True)\n",
    "\n",
    "\n",
    "\n",
    "\n",
    "def similarity_measure(movie1 , movie2):#gives a similarity measure value between -10 to 10\n",
    "    return round(svd.similarity(movie1,movie2),4)\n",
    "\n",
    "\n",
    "def get_similar_movies(movie1):#Returns a PYTHON list for similar movies.\n",
    "    l = svd.similar(movie1)\n",
    "    movie_list = []\n",
    "    l = l[2:]\n",
    "    for p in l:\n",
    "        movies.ix[movies['movie_id']== p[0]]['title']\n",
    "        bb = str(movies.ix[movies['movie_id'] == p[0] ]['title']).split()    \n",
    "        q = bb.index('Name:')\n",
    "        bb = ' '.join(bb[1:q])\n",
    "        movie_list.append(bb)            \n",
    "    return movie_list\n",
    "\n",
    "\n",
    " \n",
    "\n",
    "\n",
    "\n"
   ]
  },
  {
   "cell_type": "code",
   "execution_count": 64,
   "metadata": {
    "collapsed": false
   },
   "outputs": [],
   "source": [
    "class collaborative_filtering():\n",
    "    def __init__(self, users , movies):\n",
    "        self.users = users\n",
    "        self.movies = movies    \n",
    "        movies = movies\n",
    "        self.K = 100\n",
    "        self.PERCENT_TRAIN = 85\n",
    "        self.users.to_csv(\"/home/sourabhkondapaka/Desktop/ratingsss.csv\",index= False)\n",
    "        self.ratings_file = \"/home/sourabhkondapaka/Desktop/ratingsss.csv\"\n",
    "        self.data = None\n",
    "        self.svd = None\n",
    "        self.movie_list = None\n",
    "        self.train = None\n",
    "        self.test = None\n",
    "\n",
    "        \n",
    "        \n",
    "    def compute_svd(self):      \n",
    "        selfdata = Data()\n",
    "        data.load(ratings_file, sep=',', format={'col':0, 'row':1 ,'value':2, 'ids':float})\n",
    "        train , test = data.split_train_test(percent=PERCENT_TRAIN)    \n",
    "        self.svd = SVD()\n",
    "        self.svd.set_data(train)    \n",
    "        self.svd.compute(k=K, min_values=1, pre_normalize=None, mean_center=True, post_normalize=True)\n",
    "\n",
    "    \n",
    "    def similarity_measure(self,movie1 , movie2):#gives a similarity measure value between -1 to 1\n",
    "            return round(self.svd.similarity(movie1,movie2),4)\n",
    "    \n",
    "\n",
    "    def get_similar_movies(movie1):#Returns a PYTHON list for similar movies.\n",
    "        l = self.svd.similar(movie1)\n",
    "        self.movie_list = []\n",
    "        l = l[2:]\n",
    "        for p in l:\n",
    "            movies.ix[movies['movie_id']== p[0]]['title']\n",
    "            bb = str(movies.ix[movies['movie_id'] == p[0] ]['title']).split()    \n",
    "            q = bb.index('Name:')\n",
    "            bb = ' '.join(bb[1:q])\n",
    "            movie_list.append(bb)            \n",
    "        return movie_list\n",
    "    \n",
    "\n",
    "            \n",
    "\n",
    "    \n"
   ]
  },
  {
   "cell_type": "raw",
   "metadata": {},
   "source": [
    "        \n",
    "   "
   ]
  },
  {
   "cell_type": "code",
   "execution_count": 65,
   "metadata": {
    "collapsed": false
   },
   "outputs": [],
   "source": [
    "cf = collaborative_filtering(users,movies)\n",
    "cf.compute_svd()"
   ]
  },
  {
   "cell_type": "code",
   "execution_count": 66,
   "metadata": {
    "collapsed": false
   },
   "outputs": [
    {
     "name": "stdout",
     "output_type": "stream",
     "text": [
      "('RMSE value :', 0.026312195986934205)\n",
      "('RMSE value :', 343.321823)\n"
     ]
    }
   ],
   "source": [
    "cf.evaluation()"
   ]
  },
  {
   "cell_type": "code",
   "execution_count": null,
   "metadata": {
    "collapsed": true
   },
   "outputs": [],
   "source": []
  }
 ],
 "metadata": {
  "kernelspec": {
   "display_name": "Python 2",
   "language": "python",
   "name": "python2"
  },
  "language_info": {
   "codemirror_mode": {
    "name": "ipython",
    "version": 2
   },
   "file_extension": ".py",
   "mimetype": "text/x-python",
   "name": "python",
   "nbconvert_exporter": "python",
   "pygments_lexer": "ipython2",
   "version": "2.7.12"
  }
 },
 "nbformat": 4,
 "nbformat_minor": 2
}
