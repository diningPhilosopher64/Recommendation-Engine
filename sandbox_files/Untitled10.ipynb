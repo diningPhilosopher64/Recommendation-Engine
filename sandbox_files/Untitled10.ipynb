{
 "cells": [
  {
   "cell_type": "code",
   "execution_count": 7,
   "metadata": {
    "collapsed": true
   },
   "outputs": [],
   "source": [
    "import imdb\n",
    "from BeautifulSoup import BeautifulSoup\n",
    "import urllib2 \n",
    "import os\n",
    "import requests\n",
    "import bs4\n",
    "import numpy as np\n",
    "import pandas as pd\n",
    "from threading import Thread\n",
    "import json,requests,unicodedata,urllib2\n",
    "import time\n",
    "\n",
    "\n",
    "# set some print options\n",
    "np.set_printoptions(precision=4)\n",
    "np.set_printoptions(threshold=5)\n",
    "np.set_printoptions(suppress=True)\n",
    "pd.set_option('precision', 3, 'notebook_repr_html', True, )\n",
    "\n",
    "# init random gen\n",
    "np.random.seed(2)\n",
    "\n",
    "\n",
    "\n",
    "movies_file = \"/media/sourabhkondapaka/Sourabh's/main_project/sandbox/ml-latest-small/movies.csv\"\n",
    "movies = pd.read_table(movies_file, sep=',')\n",
    "movies.columns = ['movie_id','title','genres']"
   ]
  },
  {
   "cell_type": "code",
   "execution_count": 8,
   "metadata": {
    "collapsed": true
   },
   "outputs": [],
   "source": [
    "ia = imdb.IMDb()\n"
   ]
  },
  {
   "cell_type": "code",
   "execution_count": 11,
   "metadata": {
    "collapsed": true
   },
   "outputs": [],
   "source": [
    "movie_id = 1\n",
    "url = \"http://www.omdbapi.com/?t=\"\n",
    "#http://www.omdbapi.com/?t=Toy+story&plot=full"
   ]
  },
  {
   "cell_type": "code",
   "execution_count": 24,
   "metadata": {
    "collapsed": false
   },
   "outputs": [
    {
     "name": "stdout",
     "output_type": "stream",
     "text": [
      "Name in item is Toy Story\n",
      "http://www.omdbapi.com/?t=Toy+Story&plot=full\n",
      "{u'Plot': u'A little boy named Andy loves to be in his room, playing with his toys, especially his doll named \"Woody\". But, what do the toys do when Andy is not with them, they come to life. Woody believes that he has life (as a toy) good. However, he must worry about Andy\\'s family moving, and what Woody does not know is about Andy\\'s birthday party. Woody does not realize that Andy\\'s mother gave him an action figure known as Buzz Lightyear, who does not believe that he is a toy, and quickly becomes Andy\\'s new favorite toy. Woody, who is now consumed with jealousy, tries to get rid of Buzz. Then, both Woody and Buzz are now lost. They must find a way to get back to Andy before he moves without them, but they will have to pass through a ruthless toy killer, Sid Phillips.', u'Rated': u'G', u'Title': u'Toy Story', u'Ratings': [{u'Source': u'Internet Movie Database', u'Value': u'8.3/10'}, {u'Source': u'Rotten Tomatoes', u'Value': u'100%'}, {u'Source': u'Metacritic', u'Value': u'95/100'}], u'DVD': u'20 Mar 2001', u'Writer': u'John Lasseter (original story by), Pete Docter (original story by), Andrew Stanton (original story by), Joe Ranft (original story by), Joss Whedon (screenplay), Andrew Stanton (screenplay), Joel Cohen (screenplay), Alec Sokolow (screenplay)', u'Production': u'Buena Vista', u'Actors': u'Tom Hanks, Tim Allen, Don Rickles, Jim Varney', u'Type': u'movie', u'imdbVotes': u'666,855', u'Website': u'http://www.disney.com/ToyStory', u'Poster': u'https://images-na.ssl-images-amazon.com/images/M/MV5BMDU2ZWJlMjktMTRhMy00ZTA5LWEzNDgtYmNmZTEwZTViZWJkXkEyXkFqcGdeQXVyNDQ2OTk4MzI@._V1_SX300.jpg', u'Director': u'John Lasseter', u'Released': u'22 Nov 1995', u'Awards': u'Nominated for 3 Oscars. Another 23 wins & 18 nominations.', u'Genre': u'Animation, Adventure, Comedy', u'imdbRating': u'8.3', u'Language': u'English', u'Country': u'USA', u'BoxOffice': u'N/A', u'Runtime': u'81 min', u'imdbID': u'tt0114709', u'Metascore': u'95', u'Response': u'True', u'Year': u'1995'}\n"
     ]
    }
   ],
   "source": [
    "bb = str(movies.ix[movies['movie_id'] == movie_id ]['title']).split()    \n",
    "q = bb.index('Name:')\n",
    "bb = ' '.join(bb[1:q])\n",
    "\n",
    "item = ia.search_movie(bb)[0]\n",
    "print(\"Name in item is \" + str(item))\n",
    "name = str(item)        \n",
    "ll = name.split()\n",
    "#ll = '+'.join(ll)\n",
    "movie_url = url + '+'.join(ll)\n",
    "movie_url += \"&plot=full\"\n",
    "print movie_url\n",
    "content = urllib2.urlopen(movie_url).read()\n",
    "jsontopython = json.loads(content)\n",
    "#plot = requests.get(jsontopython['Poster'])\n",
    "#plot = requests.get(jsontopython['Plot'])\n",
    "\n",
    "print jsontopython\n",
    "    \n"
   ]
  },
  {
   "cell_type": "code",
   "execution_count": 30,
   "metadata": {
    "collapsed": false
   },
   "outputs": [
    {
     "name": "stdout",
     "output_type": "stream",
     "text": [
      "John Lasseter (original story by), Pete Docter (original story by), Andrew Stanton (original story by), Joe Ranft (original story by), Joss Whedon (screenplay), Andrew Stanton (screenplay), Joel Cohen (screenplay), Alec Sokolow (screenplay)\n"
     ]
    }
   ],
   "source": [
    "plot = jsontopython['Writer']\n",
    "print plot"
   ]
  },
  {
   "cell_type": "code",
   "execution_count": 22,
   "metadata": {
    "collapsed": false
   },
   "outputs": [
    {
     "name": "stdout",
     "output_type": "stream",
     "text": [
      "[u'Plot', u'Rated', u'Title', u'Ratings', u'DVD', u'Writer', u'Production', u'Actors', u'Type', u'imdbVotes', u'Website', u'Poster', u'Director', u'Released', u'Awards', u'Genre', u'imdbRating', u'Language', u'Country', u'BoxOffice', u'Runtime', u'imdbID', u'Metascore', u'Response', u'Year']\n"
     ]
    }
   ],
   "source": [
    "print jsontopython.keys()"
   ]
  },
  {
   "cell_type": "code",
   "execution_count": null,
   "metadata": {
    "collapsed": true
   },
   "outputs": [],
   "source": []
  }
 ],
 "metadata": {
  "kernelspec": {
   "display_name": "Python 2",
   "language": "python",
   "name": "python2"
  },
  "language_info": {
   "codemirror_mode": {
    "name": "ipython",
    "version": 2
   },
   "file_extension": ".py",
   "mimetype": "text/x-python",
   "name": "python",
   "nbconvert_exporter": "python",
   "pygments_lexer": "ipython2",
   "version": "2.7.12"
  }
 },
 "nbformat": 4,
 "nbformat_minor": 2
}
