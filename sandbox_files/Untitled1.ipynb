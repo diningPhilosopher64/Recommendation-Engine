{
 "cells": [
  {
   "cell_type": "code",
   "execution_count": 250,
   "metadata": {
    "collapsed": true
   },
   "outputs": [],
   "source": [
    "import numpy as np\n",
    "import pandas as pd\n",
    "\n",
    "# set some print options\n",
    "np.set_printoptions(precision=4)\n",
    "np.set_printoptions(threshold=5)\n",
    "np.set_printoptions(suppress=True)\n",
    "pd.set_option('precision', 3, 'notebook_repr_html', True, )\n",
    "\n",
    "# init random gen\n",
    "np.random.seed(2)\n",
    "\n"
   ]
  },
  {
   "cell_type": "code",
   "execution_count": 251,
   "metadata": {
    "collapsed": true
   },
   "outputs": [],
   "source": [
    "users_file = \"/media/sourabhkondapaka/Sourabh's/main_project/sandbox/ml-latest-small/ratings.csv\"\n",
    "movies_file = \"/media/sourabhkondapaka/Sourabh's/main_project/sandbox/ml-latest-small/movies.csv\"\n",
    "users = pd.read_table(users_file,sep=',', header=None,names = ['user_id','movie_id','rating','timestamp'])\n",
    "movies = pd.read_table(movies_file, sep=',')"
   ]
  },
  {
   "cell_type": "code",
   "execution_count": 252,
   "metadata": {
    "collapsed": true
   },
   "outputs": [],
   "source": [
    "movielens = pd.merge(users , movies)\n"
   ]
  },
  {
   "cell_type": "code",
   "execution_count": 253,
   "metadata": {
    "collapsed": false
   },
   "outputs": [
    {
     "data": {
      "text/html": [
       "<div>\n",
       "<table border=\"1\" class=\"dataframe\">\n",
       "  <thead>\n",
       "    <tr style=\"text-align: right;\">\n",
       "      <th></th>\n",
       "      <th>user_id</th>\n",
       "      <th>movie_id</th>\n",
       "      <th>rating</th>\n",
       "      <th>timestamp</th>\n",
       "      <th>title</th>\n",
       "      <th>genres</th>\n",
       "    </tr>\n",
       "  </thead>\n",
       "  <tbody>\n",
       "    <tr>\n",
       "      <th>0</th>\n",
       "      <td>1</td>\n",
       "      <td>31</td>\n",
       "      <td>2.5</td>\n",
       "      <td>1260759144</td>\n",
       "      <td>Dangerous Minds (1995)</td>\n",
       "      <td>Drama</td>\n",
       "    </tr>\n",
       "    <tr>\n",
       "      <th>1</th>\n",
       "      <td>7</td>\n",
       "      <td>31</td>\n",
       "      <td>3.0</td>\n",
       "      <td>851868750</td>\n",
       "      <td>Dangerous Minds (1995)</td>\n",
       "      <td>Drama</td>\n",
       "    </tr>\n",
       "    <tr>\n",
       "      <th>2</th>\n",
       "      <td>31</td>\n",
       "      <td>31</td>\n",
       "      <td>4.0</td>\n",
       "      <td>1273541953</td>\n",
       "      <td>Dangerous Minds (1995)</td>\n",
       "      <td>Drama</td>\n",
       "    </tr>\n",
       "    <tr>\n",
       "      <th>3</th>\n",
       "      <td>32</td>\n",
       "      <td>31</td>\n",
       "      <td>4.0</td>\n",
       "      <td>834828440</td>\n",
       "      <td>Dangerous Minds (1995)</td>\n",
       "      <td>Drama</td>\n",
       "    </tr>\n",
       "  </tbody>\n",
       "</table>\n",
       "</div>"
      ],
      "text/plain": [
       "   user_id  movie_id  rating   timestamp                   title genres\n",
       "0        1        31     2.5  1260759144  Dangerous Minds (1995)  Drama\n",
       "1        7        31     3.0   851868750  Dangerous Minds (1995)  Drama\n",
       "2       31        31     4.0  1273541953  Dangerous Minds (1995)  Drama\n",
       "3       32        31     4.0   834828440  Dangerous Minds (1995)  Drama"
      ]
     },
     "execution_count": 253,
     "metadata": {},
     "output_type": "execute_result"
    }
   ],
   "source": [
    "movielens.head(4)"
   ]
  },
  {
   "cell_type": "code",
   "execution_count": 254,
   "metadata": {
    "collapsed": false
   },
   "outputs": [],
   "source": [
    "\n",
    "import math as mt\n",
    "import csv\n",
    "from sparsesvd import sparsesvd \n",
    "import numpy as np\n",
    "from scipy.sparse import csc_matrix \n",
    "from scipy.sparse.linalg import * "
   ]
  },
  {
   "cell_type": "code",
   "execution_count": 255,
   "metadata": {
    "collapsed": true
   },
   "outputs": [],
   "source": [
    "user_ratings_matrix = users.pivot_table(values = \"rating\", index = \"user_id\", columns = \"movie_id\")"
   ]
  },
  {
   "cell_type": "code",
   "execution_count": 256,
   "metadata": {
    "collapsed": false
   },
   "outputs": [
    {
     "data": {
      "text/html": [
       "<div>\n",
       "<table border=\"1\" class=\"dataframe\">\n",
       "  <thead>\n",
       "    <tr style=\"text-align: right;\">\n",
       "      <th>movie_id</th>\n",
       "      <th>1</th>\n",
       "      <th>2</th>\n",
       "      <th>3</th>\n",
       "      <th>4</th>\n",
       "      <th>5</th>\n",
       "      <th>6</th>\n",
       "      <th>7</th>\n",
       "      <th>8</th>\n",
       "      <th>9</th>\n",
       "      <th>10</th>\n",
       "      <th>...</th>\n",
       "      <th>161084</th>\n",
       "      <th>161155</th>\n",
       "      <th>161594</th>\n",
       "      <th>161830</th>\n",
       "      <th>161918</th>\n",
       "      <th>161944</th>\n",
       "      <th>162376</th>\n",
       "      <th>162542</th>\n",
       "      <th>162672</th>\n",
       "      <th>163949</th>\n",
       "    </tr>\n",
       "    <tr>\n",
       "      <th>user_id</th>\n",
       "      <th></th>\n",
       "      <th></th>\n",
       "      <th></th>\n",
       "      <th></th>\n",
       "      <th></th>\n",
       "      <th></th>\n",
       "      <th></th>\n",
       "      <th></th>\n",
       "      <th></th>\n",
       "      <th></th>\n",
       "      <th></th>\n",
       "      <th></th>\n",
       "      <th></th>\n",
       "      <th></th>\n",
       "      <th></th>\n",
       "      <th></th>\n",
       "      <th></th>\n",
       "      <th></th>\n",
       "      <th></th>\n",
       "      <th></th>\n",
       "      <th></th>\n",
       "    </tr>\n",
       "  </thead>\n",
       "  <tbody>\n",
       "    <tr>\n",
       "      <th>1</th>\n",
       "      <td>NaN</td>\n",
       "      <td>NaN</td>\n",
       "      <td>NaN</td>\n",
       "      <td>NaN</td>\n",
       "      <td>NaN</td>\n",
       "      <td>NaN</td>\n",
       "      <td>NaN</td>\n",
       "      <td>NaN</td>\n",
       "      <td>NaN</td>\n",
       "      <td>NaN</td>\n",
       "      <td>...</td>\n",
       "      <td>NaN</td>\n",
       "      <td>NaN</td>\n",
       "      <td>NaN</td>\n",
       "      <td>NaN</td>\n",
       "      <td>NaN</td>\n",
       "      <td>NaN</td>\n",
       "      <td>NaN</td>\n",
       "      <td>NaN</td>\n",
       "      <td>NaN</td>\n",
       "      <td>NaN</td>\n",
       "    </tr>\n",
       "  </tbody>\n",
       "</table>\n",
       "<p>1 rows × 9066 columns</p>\n",
       "</div>"
      ],
      "text/plain": [
       "movie_id  1       2       3       4       5       6       7       8       \\\n",
       "user_id                                                                    \n",
       "1            NaN     NaN     NaN     NaN     NaN     NaN     NaN     NaN   \n",
       "\n",
       "movie_id  9       10       ...    161084  161155  161594  161830  161918  \\\n",
       "user_id                    ...                                             \n",
       "1            NaN     NaN   ...       NaN     NaN     NaN     NaN     NaN   \n",
       "\n",
       "movie_id  161944  162376  162542  162672  163949  \n",
       "user_id                                           \n",
       "1            NaN     NaN     NaN     NaN     NaN  \n",
       "\n",
       "[1 rows x 9066 columns]"
      ]
     },
     "execution_count": 256,
     "metadata": {},
     "output_type": "execute_result"
    }
   ],
   "source": [
    "user_ratings_matrix.head(1)"
   ]
  },
  {
   "cell_type": "code",
   "execution_count": 257,
   "metadata": {
    "collapsed": false
   },
   "outputs": [],
   "source": [
    "import sys \n",
    "import recsys\n",
    "import recsys.algorithm\n",
    "from recsys.algorithm.factorize import SVD\n",
    "from recsys.datamodel.data import Data\n",
    "import pandas as pd\n",
    "from recsys.evaluation.prediction import RMSE ,MAE\n",
    "\n",
    "recsys.algorithm.VERBOSE = True"
   ]
  },
  {
   "cell_type": "code",
   "execution_count": 258,
   "metadata": {
    "collapsed": false
   },
   "outputs": [],
   "source": [
    "users_file = \"/media/sourabhkondapaka/Sourabh's/main_project/sandbox/ml-latest-small/ratings.csv\"\n",
    "movies_file = \"/media/sourabhkondapaka/Sourabh's/main_project/sandbox/ml-latest-small/movies.csv\"\n",
    "users = pd.read_table(users_file,sep=',', header=None,names = ['user_id','movie_id','rating','timestamp'],index_col = False)\n",
    "movies = pd.read_table(movies_file, sep=',')\n"
   ]
  },
  {
   "cell_type": "code",
   "execution_count": 259,
   "metadata": {
    "collapsed": false
   },
   "outputs": [
    {
     "data": {
      "text/plain": [
       "2506    Toy Story 2 (1999)\n",
       "Name: title, dtype: object"
      ]
     },
     "execution_count": 259,
     "metadata": {},
     "output_type": "execute_result"
    }
   ],
   "source": [
    "movies.ix[movies['movie_id']== 3114]['title']"
   ]
  },
  {
   "cell_type": "code",
   "execution_count": 135,
   "metadata": {
    "collapsed": false
   },
   "outputs": [
    {
     "data": {
      "text/html": [
       "<div>\n",
       "<table border=\"1\" class=\"dataframe\">\n",
       "  <thead>\n",
       "    <tr style=\"text-align: right;\">\n",
       "      <th></th>\n",
       "      <th>user_id</th>\n",
       "      <th>movie_id</th>\n",
       "      <th>rating</th>\n",
       "      <th>timestamp</th>\n",
       "    </tr>\n",
       "  </thead>\n",
       "  <tbody>\n",
       "    <tr>\n",
       "      <th>0</th>\n",
       "      <td>1</td>\n",
       "      <td>31</td>\n",
       "      <td>2.5</td>\n",
       "      <td>1260759144</td>\n",
       "    </tr>\n",
       "    <tr>\n",
       "      <th>1</th>\n",
       "      <td>1</td>\n",
       "      <td>1029</td>\n",
       "      <td>3.0</td>\n",
       "      <td>1260759179</td>\n",
       "    </tr>\n",
       "    <tr>\n",
       "      <th>2</th>\n",
       "      <td>1</td>\n",
       "      <td>1061</td>\n",
       "      <td>3.0</td>\n",
       "      <td>1260759182</td>\n",
       "    </tr>\n",
       "    <tr>\n",
       "      <th>3</th>\n",
       "      <td>1</td>\n",
       "      <td>1129</td>\n",
       "      <td>2.0</td>\n",
       "      <td>1260759185</td>\n",
       "    </tr>\n",
       "    <tr>\n",
       "      <th>4</th>\n",
       "      <td>1</td>\n",
       "      <td>1172</td>\n",
       "      <td>4.0</td>\n",
       "      <td>1260759205</td>\n",
       "    </tr>\n",
       "  </tbody>\n",
       "</table>\n",
       "</div>"
      ],
      "text/plain": [
       "   user_id  movie_id  rating   timestamp\n",
       "0        1        31     2.5  1260759144\n",
       "1        1      1029     3.0  1260759179\n",
       "2        1      1061     3.0  1260759182\n",
       "3        1      1129     2.0  1260759185\n",
       "4        1      1172     4.0  1260759205"
      ]
     },
     "execution_count": 135,
     "metadata": {},
     "output_type": "execute_result"
    }
   ],
   "source": [
    "users.head()"
   ]
  },
  {
   "cell_type": "markdown",
   "metadata": {},
   "source": [
    " users.head(22)"
   ]
  },
  {
   "cell_type": "code",
   "execution_count": 136,
   "metadata": {
    "collapsed": false
   },
   "outputs": [],
   "source": [
    " users.to_csv(\"/home/sourabhkondapaka/Desktop/ratingsss.csv\",index= False)\n"
   ]
  },
  {
   "cell_type": "code",
   "execution_count": 219,
   "metadata": {
    "collapsed": false
   },
   "outputs": [],
   "source": [
    "PERCENT_TRAIN = 70\n",
    "data = Data()\n",
    "data.load('/home/sourabhkondapaka/Desktop/ratingsss.csv', sep=',', format={'col':0, 'row':1 ,'value':2, 'ids':float})"
   ]
  },
  {
   "cell_type": "code",
   "execution_count": null,
   "metadata": {
    "collapsed": false
   },
   "outputs": [],
   "source": []
  },
  {
   "cell_type": "code",
   "execution_count": 220,
   "metadata": {
    "collapsed": false
   },
   "outputs": [],
   "source": [
    "train, test = data.split_train_test(percent=100)\n",
    " \n",
    "#Create SVD\n",
    "K=100\n",
    "svd = SVD()"
   ]
  },
  {
   "cell_type": "code",
   "execution_count": 221,
   "metadata": {
    "collapsed": false
   },
   "outputs": [],
   "source": [
    "svd.set_data(train)"
   ]
  },
  {
   "cell_type": "code",
   "execution_count": 222,
   "metadata": {
    "collapsed": false
   },
   "outputs": [],
   "source": [
    "svd.compute(k=K, min_values=1, pre_normalize=None, mean_center=True, post_normalize=True)"
   ]
  },
  {
   "cell_type": "code",
   "execution_count": 223,
   "metadata": {
    "collapsed": false
   },
   "outputs": [
    {
     "ename": "IndentationError",
     "evalue": "expected an indented block (<ipython-input-223-ea02c3a68ace>, line 3)",
     "output_type": "error",
     "traceback": [
      "\u001b[1;36m  File \u001b[1;32m\"<ipython-input-223-ea02c3a68ace>\"\u001b[1;36m, line \u001b[1;32m3\u001b[0m\n\u001b[1;33m    for rating,user_id ,movie_id in test.get():\u001b[0m\n\u001b[1;37m                                               ^\u001b[0m\n\u001b[1;31mIndentationError\u001b[0m\u001b[1;31m:\u001b[0m expected an indented block\n"
     ]
    }
   ],
   "source": [
    "rmse = RMSE()\n",
    "mae = MAE()\n",
    "for rating,user_id ,movie_id in test.get():"
   ]
  },
  {
   "cell_type": "code",
   "execution_count": 272,
   "metadata": {
    "collapsed": false
   },
   "outputs": [
    {
     "name": "stdout",
     "output_type": "stream",
     "text": [
      "Toy Story 2 (1999)\n",
      "Louis C.K.: Live at The Comedy Store (2015)\n",
      "Stalingrad (1993)\n",
      "Talking About Sex (1994)\n",
      "Three Musketeers, The (1933)\n",
      "Salsa (1988)\n",
      "Social Network, The (2010)\n",
      "Bug's Life, A (1998)\n",
      "['Toy Story 2 (1999)', 'Louis C.K.: Live at The Comedy Store (2015)', 'Stalingrad (1993)', 'Talking About Sex (1994)', 'Three Musketeers, The (1933)', 'Salsa (1988)', 'Social Network, The (2010)', \"Bug's Life, A (1998)\"]\n"
     ]
    }
   ],
   "source": [
    "l = svd.similar(1)\n",
    "l = l[2:]\n",
    "#print l\n",
    "\n",
    "mm = []\n",
    "\n",
    "for p in l:\n",
    "    movies.ix[movies['movie_id']== p[0]]['title']\n",
    "    bb = str(movies.ix[movies['movie_id'] == p[0] ]['title']).split()    \n",
    "    q = bb.index('Name:')\n",
    "    bb = ' '.join(bb[1:q])\n",
    "    mm.append(bb)\n",
    "    print bb\n",
    "print mm      "
   ]
  },
  {
   "cell_type": "code",
   "execution_count": 275,
   "metadata": {
    "collapsed": false
   },
   "outputs": [
    {
     "name": "stdout",
     "output_type": "stream",
     "text": [
      "-3.26\n"
     ]
    }
   ],
   "source": [
    "print round(svd.similarity(1,3),4)*100"
   ]
  },
  {
   "cell_type": "code",
   "execution_count": 167,
   "metadata": {
    "collapsed": false
   },
   "outputs": [
    {
     "data": {
      "text/plain": [
       "0.052506115777717174"
      ]
     },
     "execution_count": 167,
     "metadata": {},
     "output_type": "execute_result"
    }
   ],
   "source": [
    "svd.similarity(100,5)"
   ]
  },
  {
   "cell_type": "code",
   "execution_count": null,
   "metadata": {
    "collapsed": false
   },
   "outputs": [],
   "source": []
  },
  {
   "cell_type": "code",
   "execution_count": 186,
   "metadata": {
    "collapsed": false
   },
   "outputs": [],
   "source": [
    "p = svd.recommend(100, n=10, only_unknowns=True, is_row=False)"
   ]
  },
  {
   "cell_type": "code",
   "execution_count": 187,
   "metadata": {
    "collapsed": false
   },
   "outputs": [],
   "source": [
    "l = []\n",
    "for q in p:\n",
    "    l.append(int(q[0]))   \n",
    "    \n",
    "    "
   ]
  },
  {
   "cell_type": "code",
   "execution_count": null,
   "metadata": {
    "collapsed": false
   },
   "outputs": [],
   "source": []
  },
  {
   "cell_type": "code",
   "execution_count": 188,
   "metadata": {
    "collapsed": false
   },
   "outputs": [
    {
     "name": "stdout",
     "output_type": "stream",
     "text": [
      "44    46\n",
      "Name: movie_id, dtype: int64\n",
      "392    443\n",
      "Name: movie_id, dtype: int64\n",
      "Series([], Name: movie_id, dtype: int64)\n",
      "397    448\n",
      "Name: movie_id, dtype: int64\n",
      "103    113\n",
      "Name: movie_id, dtype: int64\n",
      "Series([], Name: movie_id, dtype: int64)\n",
      "83    89\n",
      "Name: movie_id, dtype: int64\n",
      "403    454\n",
      "Name: movie_id, dtype: int64\n",
      "257    287\n",
      "Name: movie_id, dtype: int64\n",
      "395    446\n",
      "Name: movie_id, dtype: int64\n"
     ]
    }
   ],
   "source": [
    "\n",
    "for i in l:\n",
    "    print(movies.ix[movies['movie_id'] == i]['movie_id'])"
   ]
  },
  {
   "cell_type": "code",
   "execution_count": null,
   "metadata": {
    "collapsed": true
   },
   "outputs": [],
   "source": []
  }
 ],
 "metadata": {
  "kernelspec": {
   "display_name": "Python 2",
   "language": "python",
   "name": "python2"
  },
  "language_info": {
   "codemirror_mode": {
    "name": "ipython",
    "version": 2
   },
   "file_extension": ".py",
   "mimetype": "text/x-python",
   "name": "python",
   "nbconvert_exporter": "python",
   "pygments_lexer": "ipython2",
   "version": "2.7.12"
  }
 },
 "nbformat": 4,
 "nbformat_minor": 2
}
