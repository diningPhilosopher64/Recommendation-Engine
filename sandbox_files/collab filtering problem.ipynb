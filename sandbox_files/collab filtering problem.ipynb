{
 "cells": [
  {
   "cell_type": "code",
   "execution_count": 34,
   "metadata": {
    "collapsed": false
   },
   "outputs": [],
   "source": [
    "import sys \n",
    "import recsys\n",
    "import recsys.algorithm\n",
    "from recsys.algorithm.factorize import SVD\n",
    "from recsys.algorithm.factorize import SVDNeighbourhood\n",
    "from recsys.datamodel.data import Data\n",
    "from recsys.evaluation.prediction import RMSE,MAE\n",
    "import numpy as np\n",
    "import pandas as pd\n",
    "recsys.algorithm.VERBOSE = True\n",
    "movies_file = \"/media/sourabhkondapaka/Sourabh's/main_project/sandbox/ml-latest-small/movies.csv\"\n",
    "movies = pd.read_table(movies_file, sep=',')\n",
    "movies.columns = ['movie_id','title','genres']\n",
    "ratings_file = \"/home/sourabhkondapaka/Desktop/ratingsss.csv\"\n",
    "\n",
    "movies = movies\n",
    "K = 100\n",
    "PERCENT_TRAIN = 85\n",
    "#self.users = users\n",
    "#Need to provide a default file location for ratings.csv instead of loading everytime.run below 2lines only once \n",
    "#or just provide this file instead.\n",
    "#self.users.to_csv(\"/home/sourabhkondapaka/Desktop/ratingsss.csv\",index= False)\n",
    "ratings_file = ratings_file  #Give your path to ratings.csv created from above 2 lines.\n",
    "data = None\n",
    "svd = None\n",
    "recommend_movies_list = None\n",
    "recommend_movies_ids = None\n",
    "similar_movies_list = None\n",
    "similar_movies_ids = None        \n",
    "movie_id = None\n",
    "train = None\n",
    "test = None \n",
    "\n",
    "\n",
    "\n",
    "\n",
    "\n",
    "\n",
    "'''def initiate(ratings_file,movies):#No need to pass as ,will be provided in views.py\n",
    "    #self.users = users\n",
    "    #Need to provide a default file location for ratings.csv instead of loading everytime.run below 2lines only once \n",
    "    #or just provide this file instead.\n",
    "    #self.users.to_csv(\"/home/sourabhkondapaka/Desktop/ratingsss.csv\",index= False)\n",
    "    ratings_file = ratings_file  #Give your path to ratings.csv created from above 2 lines.\n",
    "    data = None\n",
    "    svd = None\n",
    "    recommend_movies_list = None\n",
    "    recommend_movies_ids = None\n",
    "    similar_movies_list = None\n",
    "    similar_movies_ids = None        \n",
    "    movie_id = None\n",
    "    train = None\n",
    "    test = None '''\n",
    "\n",
    "\n",
    "\n",
    "\n",
    "def compute_svd():      \n",
    "    global data\n",
    "    global train\n",
    "    global  test\n",
    "    data = Data()\n",
    "    global PERCENT_TRAIN\n",
    "    data.load(ratings_file, sep=',', format={'col':0, 'row':1 ,'value':2, 'ids':float})\n",
    "    train , test = data.split_train_test(percent=PERCENT_TRAIN)    \n",
    "    global svd \n",
    "    svd = SVDNeighbourhood()\n",
    "    svd.set_data(train)    \n",
    "    svd.compute(k=K, min_values=1, pre_normalize=None, mean_center=False, post_normalize=True)\n",
    "\n",
    "def similarity_measure(movie1 , movie2): #gives a similarity measure value between -1 to 1\n",
    "    global svd\n",
    "    return round(svd.similarity(movie1,movie2),4)\n",
    "\n",
    "def recommend_movies(user_id):\n",
    "    global svd\n",
    "    l = svd.recommend(user_id, n=10, only_unknowns=True, is_row=False)\n",
    "    global recommend_movies_list\n",
    "    recommend_movies_list = []\n",
    "    global recommend_movies_ids\n",
    "    recommend_movies_ids = []\n",
    "    for p in l:\n",
    "        #movie names\n",
    "        bb = str(movies.ix[movies['movie_id'] == p[0] ]['title']).split()    \n",
    "        q = bb.index('Name:')\n",
    "        bb = ' '.join(bb[1:q])\n",
    "        recommend_movies_list.append(bb) \n",
    "        #movie ids\n",
    "        gg = movies.ix[movies['movie_id'] == p[0]]\n",
    "        gg = gg.reset_index()\n",
    "        del gg['index']\n",
    "        gg = gg.ix[:,0:2].as_matrix(columns = None).tolist()\n",
    "        recommend_movies_ids.append(gg[0][0])\n",
    "    return recommend_movies_list,recommend_movies_ids\n",
    "\n",
    "def get_similar_movies(movie1):#Returns a PYTHON list for similar movies.\n",
    "    #movie1 = int(movie1)\n",
    "    global svd\n",
    "    l = svd.similar(movie1)   \n",
    "    global similar_movies_list\n",
    "    similar_movies_list = []\n",
    "    global similar_movies_ids\n",
    "    similar_movies_ids = []\n",
    "    l = l[1:]\n",
    "\n",
    "    for p in l:\n",
    "        #getting movie names\n",
    "        bb = str(movies.ix[movies['movie_id'] == p[0] ]['title']).split()    \n",
    "        q = bb.index('Name:')\n",
    "        bb = ' '.join(bb[1:q])\n",
    "        similar_movies_list.append(bb)   \n",
    "        #getting movie id's\n",
    "        similar_movies_ids.append(p[0])\n",
    "\n",
    "    return similar_movies_list,similar_movies_ids\n"
   ]
  },
  {
   "cell_type": "code",
   "execution_count": 27,
   "metadata": {
    "collapsed": false
   },
   "outputs": [],
   "source": [
    "initiate(ratings_file,movies)"
   ]
  },
  {
   "cell_type": "code",
   "execution_count": 35,
   "metadata": {
    "collapsed": false
   },
   "outputs": [],
   "source": [
    "compute_svd()"
   ]
  },
  {
   "cell_type": "code",
   "execution_count": null,
   "metadata": {
    "collapsed": false
   },
   "outputs": [],
   "source": []
  },
  {
   "cell_type": "code",
   "execution_count": null,
   "metadata": {
    "collapsed": true
   },
   "outputs": [],
   "source": []
  },
  {
   "cell_type": "code",
   "execution_count": null,
   "metadata": {
    "collapsed": true
   },
   "outputs": [],
   "source": []
  },
  {
   "cell_type": "code",
   "execution_count": null,
   "metadata": {
    "collapsed": true
   },
   "outputs": [],
   "source": []
  },
  {
   "cell_type": "code",
   "execution_count": 78,
   "metadata": {
    "collapsed": true
   },
   "outputs": [],
   "source": [
    "import sys \n",
    "import recsys\n",
    "import recsys.algorithm\n",
    "from recsys.algorithm.factorize import SVD\n",
    "from recsys.algorithm.factorize import SVDNeighbourhood\n",
    "from recsys.datamodel.data import Data\n",
    "from recsys.evaluation.prediction import RMSE,MAE\n",
    "import numpy as np\n",
    "import pandas as pd\n",
    "recsys.algorithm.VERBOSE = True\n",
    "movies_file = \"/media/sourabhkondapaka/Sourabh's/main_project/sandbox/ml-latest-small/movies.csv\"\n",
    "movies = pd.read_table(movies_file, sep=',')\n",
    "movies.columns = ['movie_id','title','genres']\n",
    "ratings_file = \"/home/sourabhkondapaka/Desktop/ratingsss.csv\"\n",
    "\n",
    "\n",
    "\n",
    "\n",
    "\n",
    "class Collaborative_filtering(object):\n",
    "    def __init__(self,ratings_file,movies):#No need to pass as ,will be provided in views.py\n",
    "        #self.users = users\n",
    "        self.movies = movies\n",
    "        self.K = 100\n",
    "        self.PERCENT_TRAIN = 85\n",
    "        #Need to provide a default file location for ratings.csv instead of loading everytime.run below 2lines only once \n",
    "        #or just provide this file instead.\n",
    "        #self.users.to_csv(\"/home/sourabhkondapaka/Desktop/ratingsss.csv\",index= False)\n",
    "        self.ratings_file = ratings_file  #Give your path to ratings.csv created from above 2 lines.\n",
    "        self.data = None\n",
    "        self.svd = None\n",
    "        self.recommend_movies_list = None\n",
    "        self.recommend_movies_ids = None\n",
    "        self.similar_movies_list = None\n",
    "        self.similar_movies_ids = None\n",
    "        \n",
    "        self.movie_id = None\n",
    "        self.train = None\n",
    "        self.test = None\n",
    "\n",
    "        \n",
    "        \n",
    "    def compute_svd(self):      \n",
    "        #self.data = Data()\n",
    "        #self.data.load(self.ratings_file, sep=',', format={'col':0, 'row':1 ,'value':2, 'ids':float})\n",
    "        #self.train , self.test = self.data.split_train_test(percent=self.PERCENT_TRAIN)    \n",
    "        #self.svd = SVDNeighbourhood()\n",
    "        #self.svd.set_data(self.train) \n",
    "        self.svd = SVDNeighbourhood()\n",
    "        self.svd.load_data(filename=ratings_file, sep=',', format={'col':0, 'row':1, 'value':2, 'ids': float})\n",
    "        self.svd.compute(k=self.K,min_values=10,pre_normalize=None,mean_center=True,post_normalize=True,savefile='/tmp/movielens')\n",
    "\n",
    "    def similarity_measure(self,movie1 , movie2): #gives a similarity measure value between -1 to 1\n",
    "        return round(self.svd.similarity(movie1,movie2),4)\n",
    "    \n",
    "    def recommend_movies(self,user_id):\n",
    "        l =  self.svd.recommend(user_id, n=10, only_unknowns=True, is_row=False)\n",
    "        self.recommend_movies_list = []\n",
    "        self.recommend_movies_ids = []\n",
    "        for p in l:\n",
    "            #movie names\n",
    "            bb = str(movies.ix[movies['movie_id'] == p[0] ]['title']).split()    \n",
    "            q = bb.index('Name:')\n",
    "            bb = ' '.join(bb[1:q])\n",
    "            self.recommend_movies_list.append(bb) \n",
    "            #movie ids\n",
    "            gg = movies.ix[movies['movie_id'] == p[0]]\n",
    "            gg = gg.reset_index()\n",
    "            del gg['index']\n",
    "            gg = gg.ix[:,0:2].as_matrix(columns = None).tolist()\n",
    "            self.recommend_movies_ids.append(gg[0][0])\n",
    "        return self.recommend_movies_list,self.recommend_movies_ids\n",
    "    \n",
    "    def get_similar_movies(self,movie1):#Returns a PYTHON list for similar movies.\n",
    "        #movie1 = int(movie1)\n",
    "        l = self.svd.similar(movie1)   \n",
    "        self.similar_movies_list = []\n",
    "        self.similar_movies_ids = []\n",
    "        l = l[1:]\n",
    "        \n",
    "        for p in l:\n",
    "            #getting movie names\n",
    "            bb = str(movies.ix[movies['movie_id'] == p[0] ]['title']).split()    \n",
    "            q = bb.index('Name:')\n",
    "            bb = ' '.join(bb[1:q])\n",
    "            self.similar_movies_list.append(bb)   \n",
    "            #getting movie id's\n",
    "            self.similar_movies_ids.append(p[0])\n",
    "            \n",
    "        return self.similar_movies_list,self.similar_movies_ids\n",
    "    "
   ]
  },
  {
   "cell_type": "code",
   "execution_count": 79,
   "metadata": {
    "collapsed": true
   },
   "outputs": [],
   "source": [
    "cf = Collaborative_filtering(ratings_file,movies)"
   ]
  },
  {
   "cell_type": "code",
   "execution_count": 80,
   "metadata": {
    "collapsed": false
   },
   "outputs": [],
   "source": [
    "cf.compute_svd()"
   ]
  },
  {
   "cell_type": "code",
   "execution_count": 81,
   "metadata": {
    "collapsed": false
   },
   "outputs": [
    {
     "name": "stdout",
     "output_type": "stream",
     "text": [
      "(['Toy Story 2 (1999)', 'Toy Story 3 (2010)', 'Robin Hood (1973)', 'Social Network, The (2010)', \"Bug's Life, A (1998)\", 'Lion King, The (1994)', 'Basic Instinct (1992)', 'Aladdin (1992)', 'Dark Knight, The (2008)'], [3114, 78499, 3034, 80463, 2355, 364, 1092, 588, 58559])\n"
     ]
    }
   ],
   "source": [
    "print cf.get_similar_movies(1)\n"
   ]
  },
  {
   "cell_type": "code",
   "execution_count": 48,
   "metadata": {
    "collapsed": true
   },
   "outputs": [],
   "source": [
    "from recsys.algorithm.factorize import SVD\n",
    "svd = SVD()\n",
    "svd.load_data(ratings_file,sep=',',format={'col':0, 'row':1, 'value':2, 'ids': float})"
   ]
  },
  {
   "cell_type": "code",
   "execution_count": 49,
   "metadata": {
    "collapsed": true
   },
   "outputs": [],
   "source": [
    "k = 100\n",
    "svd.compute(k=k,min_values=10,pre_normalize=None,mean_center=True,post_normalize=True,savefile='/tmp/movielens')"
   ]
  },
  {
   "cell_type": "code",
   "execution_count": 63,
   "metadata": {
    "collapsed": false
   },
   "outputs": [],
   "source": [
    "#svd.similar(3)"
   ]
  },
  {
   "cell_type": "code",
   "execution_count": 75,
   "metadata": {
    "collapsed": false
   },
   "outputs": [],
   "source": [
    "import recsys.algorithm\n",
    "recsys.algorithm.VERBOSE = True\n",
    "from recsys.algorithm.factorize import SVDNeighbourhood\n",
    "svd = SVDNeighbourhood()\n",
    "svd.load_data(filename=ratings_file, sep=',', format={'col':0, 'row':1, 'value':2, 'ids': float})"
   ]
  },
  {
   "cell_type": "code",
   "execution_count": 76,
   "metadata": {
    "collapsed": true
   },
   "outputs": [],
   "source": [
    "k = 100\n",
    "svd.compute(k=k, min_values=10, pre_normalize=None, mean_center=True, post_normalize=True)"
   ]
  },
  {
   "cell_type": "code",
   "execution_count": 77,
   "metadata": {
    "collapsed": false,
    "scrolled": true
   },
   "outputs": [
    {
     "name": "stdout",
     "output_type": "stream",
     "text": [
      "[(564, 4.7775693455198898), (46, 4.6623377026811781), (443, 4.6060085732703477), (448, 4.4917620471198658), (566, 4.4818837747559517), (622, 4.4658610216884824), (298, 4.4626769061148535), (287, 4.3641763772336732), (89, 4.3560057435944746), (446, 4.3525806743748046)]\n"
     ]
    }
   ],
   "source": [
    "print svd.recommend(22)"
   ]
  },
  {
   "cell_type": "code",
   "execution_count": null,
   "metadata": {
    "collapsed": true
   },
   "outputs": [],
   "source": []
  }
 ],
 "metadata": {
  "kernelspec": {
   "display_name": "Python 2",
   "language": "python",
   "name": "python2"
  },
  "language_info": {
   "codemirror_mode": {
    "name": "ipython",
    "version": 2
   },
   "file_extension": ".py",
   "mimetype": "text/x-python",
   "name": "python",
   "nbconvert_exporter": "python",
   "pygments_lexer": "ipython2",
   "version": "2.7.12"
  }
 },
 "nbformat": 4,
 "nbformat_minor": 2
}
