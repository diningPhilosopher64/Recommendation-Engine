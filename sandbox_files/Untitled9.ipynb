{
 "cells": [
  {
   "cell_type": "code",
   "execution_count": 4,
   "metadata": {
    "collapsed": true
   },
   "outputs": [],
   "source": [
    "import sys \n",
    "import recsys\n",
    "import recsys.algorithm\n",
    "from recsys.algorithm.factorize import SVD\n",
    "from recsys.algorithm.factorize import SVDNeighbourhood\n",
    "from recsys.datamodel.data import Data\n",
    "import pandas as pd\n",
    "from recsys.evaluation.prediction import RMSE,MAE\n",
    "recsys.algorithm.VERBOSE = True\n",
    "import csv\n",
    "\n",
    "\n",
    "#These paths are to be given by Irfan \n",
    "\n",
    "users_file = \"/media/sourabhkondapaka/Sourabh's/main_project/sandbox/ml-latest-small/ratings.csv\"\n",
    "movies_file = \"/media/sourabhkondapaka/Sourabh's/main_project/sandbox/ml-latest-small/movies.csv\"\n",
    "users = pd.read_table(users_file,sep=',', header=None,names = ['user_id','movie_id','rating','timestamp'],index_col = False)\n",
    "movies = pd.read_table(movies_file, sep=',')\n",
    "users.to_csv(\"/home/sourabhkondapaka/Desktop/ratingsss.csv\",index= False)"
   ]
  },
  {
   "cell_type": "code",
   "execution_count": 5,
   "metadata": {
    "collapsed": false
   },
   "outputs": [],
   "source": [
    "ratings = pd.read_csv(\"/home/sourabhkondapaka/Desktop/ratingsss.csv\",index_col= False)\n",
    "\n"
   ]
  },
  {
   "cell_type": "code",
   "execution_count": 14,
   "metadata": {
    "collapsed": false
   },
   "outputs": [
    {
     "name": "stdout",
     "output_type": "stream",
     "text": [
      "hello\n"
     ]
    }
   ],
   "source": [
    "if not any(ratings['user_id'] == 672):\n",
    "    print \"hello\"\n",
    "else:\n",
    "    print \"Not there\""
   ]
  },
  {
   "cell_type": "code",
   "execution_count": 3,
   "metadata": {
    "collapsed": false
   },
   "outputs": [
    {
     "name": "stdout",
     "output_type": "stream",
     "text": [
      "<type 'numpy.int64'>\n"
     ]
    }
   ],
   "source": [
    "la = ratings['user_id'].iloc[-1]  #gets value of last user_id for registration\n",
    "print type(la)\n",
    "\n",
    "#df.loc[len(df)] = ['val_a', 'val_b', .... ]\n",
    "\n"
   ]
  },
  {
   "cell_type": "code",
   "execution_count": 264,
   "metadata": {
    "collapsed": false,
    "scrolled": true
   },
   "outputs": [
    {
     "name": "stdout",
     "output_type": "stream",
     "text": [
      "100004     1\n",
      "100005     2\n",
      "100006     3\n",
      "100007     4\n",
      "100008    10\n",
      "Name: movie_id, dtype: int64\n"
     ]
    },
    {
     "data": {
      "text/plain": [
       "user_id        int64\n",
       "movie_id       int64\n",
       "rating       float64\n",
       "timestamp      int64\n",
       "dtype: object"
      ]
     },
     "execution_count": 264,
     "metadata": {},
     "output_type": "execute_result"
    }
   ],
   "source": [
    "q = 5\n",
    "pc = ratings.movie_id[ratings.user_id == la]\n",
    "print pc\n",
    "ad = pc.tolist()\n",
    "s = 0\n",
    "\n",
    "for p in ad:\n",
    "    if q < p:\n",
    "        s =  ad.index(p)\n",
    "        break\n",
    "      \n",
    "seperate = list(pc[pc == s].index)[0]\n",
    "\n",
    "seperate\n",
    "ratings.dtypes"
   ]
  },
  {
   "cell_type": "code",
   "execution_count": 265,
   "metadata": {
    "collapsed": false
   },
   "outputs": [],
   "source": [
    "\n",
    "bla = [672,5,4.675,665345]\n",
    "#ratings.loc[la] = ['672','4','13','545345']\n",
    "#ratings = ratings[:pc] + bla + ratings[pc:len(ratings)]\n",
    "pq = ratings[:seperate+1]\n",
    "rs = ratings[seperate+1:len(ratings)]\n",
    "#num = pq.index.tolist()[-1]\n",
    "#print pq\n",
    "#print pq.iloc[-1]\n",
    "#print len(pq)\n",
    "pq.loc[len(pq)] = bla\n",
    "pq.index = pq.index + 1\n",
    "\n",
    "\n",
    "#pq  = pq.append(bla , ignore_index=True) #not required to do this\n",
    "\n",
    "pq = pq.append(rs , ignore_index=True)\n",
    "pq.to_csv(\"/home/sourabhkondapaka/Desktop/ratingsss.csv\",index = False)"
   ]
  },
  {
   "cell_type": "code",
   "execution_count": null,
   "metadata": {
    "collapsed": true
   },
   "outputs": [],
   "source": [
    "pq = pq.append"
   ]
  },
  {
   "cell_type": "code",
   "execution_count": 56,
   "metadata": {
    "collapsed": true
   },
   "outputs": [],
   "source": [
    "ratings.to_csv(\"/home/sourabhkondapaka/Desktop/temp.csv\")"
   ]
  },
  {
   "cell_type": "code",
   "execution_count": 40,
   "metadata": {
    "collapsed": false
   },
   "outputs": [],
   "source": [
    "#for adding a row at the end .\n",
    "with open('/home/sourabhkondapaka/Desktop/ratingsss.csv','a') as f:\n",
    "    writer=csv.writer(f)\n",
    "    writer.writerow(['672','4','13','545345'])#Need to get the second value ie movie_id"
   ]
  },
  {
   "cell_type": "code",
   "execution_count": null,
   "metadata": {
    "collapsed": true
   },
   "outputs": [],
   "source": [
    "def addRowAt(i,row): #Adds a row at a given index\n",
    "    if(i>=0 and i<= len(self.rows)):\n",
    "        rows = rows[0:i]+[row]+rows[i:len(self.rows)]\n",
    "        else:print(\"index error adding at:\"+str(i))"
   ]
  }
 ],
 "metadata": {
  "kernelspec": {
   "display_name": "Python 2",
   "language": "python",
   "name": "python2"
  },
  "language_info": {
   "codemirror_mode": {
    "name": "ipython",
    "version": 2
   },
   "file_extension": ".py",
   "mimetype": "text/x-python",
   "name": "python",
   "nbconvert_exporter": "python",
   "pygments_lexer": "ipython2",
   "version": "2.7.12"
  }
 },
 "nbformat": 4,
 "nbformat_minor": 2
}
