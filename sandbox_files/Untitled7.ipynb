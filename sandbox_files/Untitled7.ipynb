{
 "cells": [
  {
   "cell_type": "code",
   "execution_count": 15,
   "metadata": {
    "collapsed": false
   },
   "outputs": [
    {
     "name": "stdout",
     "output_type": "stream",
     "text": [
      "   index  movie_id  rating\n",
      "0      0    163949     5.0\n",
      "1    208      3947     5.0\n",
      "2    215     80839     5.0\n",
      "3    214      4442     5.0\n",
      "4    213     80717     5.0\n",
      "5    212    102753     5.0\n",
      "6    211     26150     5.0\n",
      "7    210     78903     5.0\n",
      "8    209    102666     5.0\n",
      "9    207     26094     5.0\n"
     ]
    },
    {
     "name": "stderr",
     "output_type": "stream",
     "text": [
      "/home/sourabhkondapaka/anaconda3/envs/py2/lib/python2.7/site-packages/ipykernel/__main__.py:36: FutureWarning: sort(columns=....) is deprecated, use sort_values(by=.....)\n"
     ]
    }
   ],
   "source": [
    "import numpy as np\n",
    "import pandas as pd\n",
    "\n",
    "# set some print options\n",
    "np.set_printoptions(precision=4)\n",
    "np.set_printoptions(threshold=5)\n",
    "np.set_printoptions(suppress=True)\n",
    "pd.set_option('precision', 3, 'notebook_repr_html', True, )\n",
    "\n",
    "# init random gen\n",
    "np.random.seed(2)\n",
    "\n",
    "\n",
    "\n",
    "users_file = \"/media/sourabhkondapaka/Sourabh's/main_project/sandbox/ml-latest-small/ratings.csv\"\n",
    "movies_file = \"/media/sourabhkondapaka/Sourabh's/main_project/sandbox/ml-latest-small/movies.csv\"\n",
    "users = pd.read_table(users_file,sep=',', header=None,names = ['user_id','movie_id','rating','timestamp'])\n",
    "movies = pd.read_table(movies_file, sep=',')\n",
    "\n",
    "movies.columns = ['movie_id','title','genres']\n",
    "\n",
    "movielens = pd.merge(users , movies)\n",
    "\n",
    "movie_ratings = movielens.ix[:,1:3]\n",
    "\n",
    "gg = movie_ratings.groupby('movie_id', as_index=True)['rating'].mean().sort_values(ascending=False)\n",
    "gg = pd.DataFrame(gg).reset_index()\n",
    "\n",
    "\n",
    "gg['title'] = gg['movie_id'].map(movies.set_index('movie_id')['title'])\n",
    "\n",
    "\n",
    "\n",
    "\n",
    "\n",
    "pp = gg.sort(['rating'],ascending=False)\n",
    "\n",
    "pp = pp.ix[:,0:2]\n",
    "\n",
    "pp = pp.reset_index()\n",
    "\n",
    "print pp[:10]\n",
    "\n",
    "del pp['index']\n",
    "\n",
    "\n",
    "\n",
    "\n",
    "pp.to_csv(\"/home/sourabhkondapaka/Desktop/bla.csv\")\n",
    "\n"
   ]
  },
  {
   "cell_type": "code",
   "execution_count": null,
   "metadata": {
    "collapsed": false
   },
   "outputs": [],
   "source": []
  },
  {
   "cell_type": "code",
   "execution_count": null,
   "metadata": {
    "collapsed": true
   },
   "outputs": [],
   "source": []
  },
  {
   "cell_type": "code",
   "execution_count": 10,
   "metadata": {
    "collapsed": true
   },
   "outputs": [],
   "source": [
    "pb = popularity_based(users,movies)"
   ]
  },
  {
   "cell_type": "code",
   "execution_count": 11,
   "metadata": {
    "collapsed": true
   },
   "outputs": [],
   "source": [
    "pb.create()"
   ]
  },
  {
   "cell_type": "code",
   "execution_count": 12,
   "metadata": {
    "collapsed": false
   },
   "outputs": [],
   "source": [
    "movies = pb.recommend()"
   ]
  },
  {
   "cell_type": "code",
   "execution_count": 14,
   "metadata": {
    "collapsed": false
   },
   "outputs": [
    {
     "name": "stdout",
     "output_type": "stream",
     "text": [
      "The Beatles: Eight Days a Week - The Touring Years (2016)\n",
      "Vampyros Lesbos (Vampiras, Las) (1971)\n",
      "Even Dwarfs Started Small (Auch Zwerge haben klein angefangen) (1971)\n",
      "Saddest Music in the World, The (2003)\n",
      "Boiling Point (1993)\n",
      "Touch of Pink (2004)\n",
      "Riding Giants (2004)\n",
      "Kidnapping, Caucasian Style (Kavkazskaya plennitsa) (1967)\n",
      "Wrong Cops (2013)\n",
      "Fireworks Wednesday (Chaharshanbe-soori) (2006)\n",
      "Am Ende eiens viel zu kurzen Tages (Death of a superhero) (2011)\n"
     ]
    }
   ],
   "source": [
    "for movie in movies:\n",
    "    print movie"
   ]
  },
  {
   "cell_type": "code",
   "execution_count": 23,
   "metadata": {
    "collapsed": true
   },
   "outputs": [],
   "source": [
    "import os,csv\n"
   ]
  },
  {
   "cell_type": "code",
   "execution_count": 24,
   "metadata": {
    "collapsed": true
   },
   "outputs": [],
   "source": [
    "images = os.listdir(\"/media/sourabhkondapaka/Sourabh's/main_project/sandbox/images2\")"
   ]
  },
  {
   "cell_type": "code",
   "execution_count": 30,
   "metadata": {
    "collapsed": false
   },
   "outputs": [],
   "source": [
    "img = images[:10]"
   ]
  },
  {
   "cell_type": "code",
   "execution_count": null,
   "metadata": {
    "collapsed": false
   },
   "outputs": [],
   "source": []
  },
  {
   "cell_type": "code",
   "execution_count": 27,
   "metadata": {
    "collapsed": false
   },
   "outputs": [
    {
     "ename": "AttributeError",
     "evalue": "'Series' object has no attribute 'csv'",
     "output_type": "error",
     "traceback": [
      "\u001b[1;31m---------------------------------------------------------------------------\u001b[0m",
      "\u001b[1;31mAttributeError\u001b[0m                            Traceback (most recent call last)",
      "\u001b[1;32m<ipython-input-27-381b1c222753>\u001b[0m in \u001b[0;36m<module>\u001b[1;34m()\u001b[0m\n\u001b[1;32m----> 1\u001b[1;33m \u001b[1;32mprint\u001b[0m \u001b[0mnames\u001b[0m\u001b[1;33m.\u001b[0m\u001b[0mcsv\u001b[0m\u001b[1;33m\u001b[0m\u001b[0m\n\u001b[0m",
      "\u001b[1;32m/home/sourabhkondapaka/anaconda3/envs/py2/lib/python2.7/site-packages/pandas/core/generic.pyc\u001b[0m in \u001b[0;36m__getattr__\u001b[1;34m(self, name)\u001b[0m\n\u001b[0;32m   2742\u001b[0m             \u001b[1;32mif\u001b[0m \u001b[0mname\u001b[0m \u001b[1;32min\u001b[0m \u001b[0mself\u001b[0m\u001b[1;33m.\u001b[0m\u001b[0m_info_axis\u001b[0m\u001b[1;33m:\u001b[0m\u001b[1;33m\u001b[0m\u001b[0m\n\u001b[0;32m   2743\u001b[0m                 \u001b[1;32mreturn\u001b[0m \u001b[0mself\u001b[0m\u001b[1;33m[\u001b[0m\u001b[0mname\u001b[0m\u001b[1;33m]\u001b[0m\u001b[1;33m\u001b[0m\u001b[0m\n\u001b[1;32m-> 2744\u001b[1;33m             \u001b[1;32mreturn\u001b[0m \u001b[0mobject\u001b[0m\u001b[1;33m.\u001b[0m\u001b[0m__getattribute__\u001b[0m\u001b[1;33m(\u001b[0m\u001b[0mself\u001b[0m\u001b[1;33m,\u001b[0m \u001b[0mname\u001b[0m\u001b[1;33m)\u001b[0m\u001b[1;33m\u001b[0m\u001b[0m\n\u001b[0m\u001b[0;32m   2745\u001b[0m \u001b[1;33m\u001b[0m\u001b[0m\n\u001b[0;32m   2746\u001b[0m     \u001b[1;32mdef\u001b[0m \u001b[0m__setattr__\u001b[0m\u001b[1;33m(\u001b[0m\u001b[0mself\u001b[0m\u001b[1;33m,\u001b[0m \u001b[0mname\u001b[0m\u001b[1;33m,\u001b[0m \u001b[0mvalue\u001b[0m\u001b[1;33m)\u001b[0m\u001b[1;33m:\u001b[0m\u001b[1;33m\u001b[0m\u001b[0m\n",
      "\u001b[1;31mAttributeError\u001b[0m: 'Series' object has no attribute 'csv'"
     ]
    }
   ],
   "source": []
  },
  {
   "cell_type": "code",
   "execution_count": null,
   "metadata": {
    "collapsed": true
   },
   "outputs": [],
   "source": []
  }
 ],
 "metadata": {
  "kernelspec": {
   "display_name": "Python 2",
   "language": "python",
   "name": "python2"
  },
  "language_info": {
   "codemirror_mode": {
    "name": "ipython",
    "version": 2
   },
   "file_extension": ".py",
   "mimetype": "text/x-python",
   "name": "python",
   "nbconvert_exporter": "python",
   "pygments_lexer": "ipython2",
   "version": "2.7.12"
  }
 },
 "nbformat": 4,
 "nbformat_minor": 2
}
