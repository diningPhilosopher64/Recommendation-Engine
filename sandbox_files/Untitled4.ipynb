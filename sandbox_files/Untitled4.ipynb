{
 "cells": [
  {
   "cell_type": "code",
   "execution_count": 7,
   "metadata": {
    "collapsed": true
   },
   "outputs": [],
   "source": [
    "import sys \n",
    "import recsys\n",
    "import recsys.algorithm\n",
    "from recsys.algorithm.factorize import SVD\n",
    "from recsys.datamodel.data import Data\n",
    "import pandas as pd\n",
    "\n",
    "recsys.algorithm.VERBOSE = False\n"
   ]
  },
  {
   "cell_type": "code",
   "execution_count": 8,
   "metadata": {
    "collapsed": false
   },
   "outputs": [],
   "source": [
    "\n",
    "users_file = \"/media/sourabhkondapaka/Sourabh's/main_project/sandbox/ml-latest-small/ratings.csv\"\n",
    "movies_file = \"/media/sourabhkondapaka/Sourabh's/main_project/sandbox/ml-latest-small/movies.csv\"\n",
    "users = pd.read_table(users_file,sep=',', header=None,names = ['user_id','movie_id','rating','timestamp'],index_col = False)\n",
    "movies = pd.read_table(movies_file, sep=',')\n"
   ]
  },
  {
   "cell_type": "code",
   "execution_count": 9,
   "metadata": {
    "collapsed": false
   },
   "outputs": [],
   "source": [
    "\n",
    "class collaborative_filtering():\n",
    "    def __init__(self, users ,movies):\n",
    "        self.users = users\n",
    "        self.movies = movies\n",
    "        self.K = 85\n",
    "        self.ratings_file = \"/home/sourabhkondapaka/Desktop/ratingsss.csv\"\n",
    "        self.data = None\n",
    "        self.PERCENT_TRAIN = 85\n",
    "        self.users.to_csv(\"/home/sourabhkondapaka/Desktop/ratingsss.csv\",index= False)\n",
    "        self.ratings_file = \"/home/sourabhkondapaka/Desktop/ratingsss.csv\"\n",
    "        self.data = None\n",
    "        self.svd = None\n",
    "        self.movie_list = None\n",
    "        \n",
    "        \n",
    "        \n",
    "    def compute_svd(self):\n",
    "        self.data = Data()\n",
    "        self.data.load(self.ratings_file, sep=',', format={'col':0, 'row':1 ,'value':2, 'ids':float})\n",
    "        self.svd = SVDNeighbourhood()\n",
    "        self.svd.set_data(train)\n",
    "        self.svd.compute(k=self.K, min_values=1, pre_normalize=None, mean_center=True, post_normalize=True)\n",
    "\n",
    "        \n",
    "        \n",
    "\n",
    "    def similarity_measure(self,movie1 , movie2):#gives a similarity measure value between -10 to 10\n",
    "        return round(self.svd.similarity(movie1,movie2),4)\n",
    "    \n",
    "\n",
    "    def get_similar_movies(movie1):#Returns a PYTHON list for similar movies.\n",
    "        l = self.svd.similar(movie1)\n",
    "        self.movie_list = []\n",
    "        l = l[2:]\n",
    "        for p in l:\n",
    "            movies.ix[movies['movie_id']== p[0]]['title']\n",
    "            bb = str(movies.ix[movies['movie_id'] == p[0] ]['title']).split()    \n",
    "            q = bb.index('Name:')\n",
    "            bb = ' '.join(bb[1:q])\n",
    "            movie_list.append(bb)            \n",
    "        return movie_list\n",
    "    \n",
    "\n",
    "    "
   ]
  },
  {
   "cell_type": "code",
   "execution_count": 10,
   "metadata": {
    "collapsed": false
   },
   "outputs": [],
   "source": [
    "cf = collaborative_filtering(users, movies)"
   ]
  },
  {
   "cell_type": "code",
   "execution_count": 11,
   "metadata": {
    "collapsed": false
   },
   "outputs": [
    {
     "ename": "NameError",
     "evalue": "global name 'SVDNeighbourhood' is not defined",
     "output_type": "error",
     "traceback": [
      "\u001b[1;31m---------------------------------------------------------------------------\u001b[0m",
      "\u001b[1;31mNameError\u001b[0m                                 Traceback (most recent call last)",
      "\u001b[1;32m<ipython-input-11-93702e1a2813>\u001b[0m in \u001b[0;36m<module>\u001b[1;34m()\u001b[0m\n\u001b[1;32m----> 1\u001b[1;33m \u001b[0mcf\u001b[0m\u001b[1;33m.\u001b[0m\u001b[0mcompute_svd\u001b[0m\u001b[1;33m(\u001b[0m\u001b[1;33m)\u001b[0m\u001b[1;33m\u001b[0m\u001b[0m\n\u001b[0m",
      "\u001b[1;32m<ipython-input-9-d3a1436352b3>\u001b[0m in \u001b[0;36mcompute_svd\u001b[1;34m(self)\u001b[0m\n\u001b[0;32m     19\u001b[0m         \u001b[0mself\u001b[0m\u001b[1;33m.\u001b[0m\u001b[0mdata\u001b[0m \u001b[1;33m=\u001b[0m \u001b[0mData\u001b[0m\u001b[1;33m(\u001b[0m\u001b[1;33m)\u001b[0m\u001b[1;33m\u001b[0m\u001b[0m\n\u001b[0;32m     20\u001b[0m         \u001b[0mself\u001b[0m\u001b[1;33m.\u001b[0m\u001b[0mdata\u001b[0m\u001b[1;33m.\u001b[0m\u001b[0mload\u001b[0m\u001b[1;33m(\u001b[0m\u001b[0mself\u001b[0m\u001b[1;33m.\u001b[0m\u001b[0mratings_file\u001b[0m\u001b[1;33m,\u001b[0m \u001b[0msep\u001b[0m\u001b[1;33m=\u001b[0m\u001b[1;34m','\u001b[0m\u001b[1;33m,\u001b[0m \u001b[0mformat\u001b[0m\u001b[1;33m=\u001b[0m\u001b[1;33m{\u001b[0m\u001b[1;34m'col'\u001b[0m\u001b[1;33m:\u001b[0m\u001b[1;36m0\u001b[0m\u001b[1;33m,\u001b[0m \u001b[1;34m'row'\u001b[0m\u001b[1;33m:\u001b[0m\u001b[1;36m1\u001b[0m \u001b[1;33m,\u001b[0m\u001b[1;34m'value'\u001b[0m\u001b[1;33m:\u001b[0m\u001b[1;36m2\u001b[0m\u001b[1;33m,\u001b[0m \u001b[1;34m'ids'\u001b[0m\u001b[1;33m:\u001b[0m\u001b[0mfloat\u001b[0m\u001b[1;33m}\u001b[0m\u001b[1;33m)\u001b[0m\u001b[1;33m\u001b[0m\u001b[0m\n\u001b[1;32m---> 21\u001b[1;33m         \u001b[0mself\u001b[0m\u001b[1;33m.\u001b[0m\u001b[0msvd\u001b[0m \u001b[1;33m=\u001b[0m \u001b[0mSVDNeighbourhood\u001b[0m\u001b[1;33m(\u001b[0m\u001b[1;33m)\u001b[0m\u001b[1;33m\u001b[0m\u001b[0m\n\u001b[0m\u001b[0;32m     22\u001b[0m         \u001b[0mself\u001b[0m\u001b[1;33m.\u001b[0m\u001b[0msvd\u001b[0m\u001b[1;33m.\u001b[0m\u001b[0mset_data\u001b[0m\u001b[1;33m(\u001b[0m\u001b[0mtrain\u001b[0m\u001b[1;33m)\u001b[0m\u001b[1;33m\u001b[0m\u001b[0m\n\u001b[0;32m     23\u001b[0m         \u001b[0mself\u001b[0m\u001b[1;33m.\u001b[0m\u001b[0msvd\u001b[0m\u001b[1;33m.\u001b[0m\u001b[0mcompute\u001b[0m\u001b[1;33m(\u001b[0m\u001b[0mk\u001b[0m\u001b[1;33m=\u001b[0m\u001b[0mself\u001b[0m\u001b[1;33m.\u001b[0m\u001b[0mK\u001b[0m\u001b[1;33m,\u001b[0m \u001b[0mmin_values\u001b[0m\u001b[1;33m=\u001b[0m\u001b[1;36m1\u001b[0m\u001b[1;33m,\u001b[0m \u001b[0mpre_normalize\u001b[0m\u001b[1;33m=\u001b[0m\u001b[0mNone\u001b[0m\u001b[1;33m,\u001b[0m \u001b[0mmean_center\u001b[0m\u001b[1;33m=\u001b[0m\u001b[0mTrue\u001b[0m\u001b[1;33m,\u001b[0m \u001b[0mpost_normalize\u001b[0m\u001b[1;33m=\u001b[0m\u001b[0mTrue\u001b[0m\u001b[1;33m)\u001b[0m\u001b[1;33m\u001b[0m\u001b[0m\n",
      "\u001b[1;31mNameError\u001b[0m: global name 'SVDNeighbourhood' is not defined"
     ]
    }
   ],
   "source": [
    "cf.compute_svd()"
   ]
  },
  {
   "cell_type": "code",
   "execution_count": null,
   "metadata": {
    "collapsed": true
   },
   "outputs": [],
   "source": []
  }
 ],
 "metadata": {
  "kernelspec": {
   "display_name": "Python 2",
   "language": "python",
   "name": "python2"
  },
  "language_info": {
   "codemirror_mode": {
    "name": "ipython",
    "version": 2
   },
   "file_extension": ".py",
   "mimetype": "text/x-python",
   "name": "python",
   "nbconvert_exporter": "python",
   "pygments_lexer": "ipython2",
   "version": "2.7.12"
  }
 },
 "nbformat": 4,
 "nbformat_minor": 2
}
